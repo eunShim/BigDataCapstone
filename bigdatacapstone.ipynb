{
  "nbformat": 4,
  "nbformat_minor": 0,
  "metadata": {
    "colab": {
      "provenance": [],
      "mount_file_id": "https://github.com/eunShim/Backend/blob/main/bigdatacapstone.ipynb",
      "authorship_tag": "ABX9TyMXepVV/yKc6ZKsxOXk3Fa4",
      "include_colab_link": true
    },
    "kernelspec": {
      "name": "python3",
      "display_name": "Python 3"
    },
    "language_info": {
      "name": "python"
    }
  },
  "cells": [
    {
      "cell_type": "markdown",
      "metadata": {
        "id": "view-in-github",
        "colab_type": "text"
      },
      "source": [
        "<a href=\"https://colab.research.google.com/github/eunShim/BigDataCapstone/blob/main/bigdatacapstone.ipynb\" target=\"_parent\"><img src=\"https://colab.research.google.com/assets/colab-badge.svg\" alt=\"Open In Colab\"/></a>"
      ]
    },
    {
      "cell_type": "markdown",
      "source": [
        "- KT4 파일로 500명 샘플링해서 사용자 로그 quit 횟수, timestamp 차이(소요시간), mobile/web 비율, submit 비율 계산함\n",
        "- 500명 행동 패턴 통계 출력"
      ],
      "metadata": {
        "id": "FK7JzDcppKP1"
      }
    },
    {
      "cell_type": "code",
      "source": [
        "import zipfile, pandas as pd, random, numpy as np\n",
        "import matplotlib.pyplot as plt\n",
        "\n",
        "# ============================================\n",
        "# 1. ZIP 내부에서 직접 파일 접근 (압축 해제 X)\n",
        "# ============================================\n",
        "zip_path = \"/content/EdNet-KT4.zip\"\n",
        "zf = zipfile.ZipFile(zip_path)\n",
        "file_list = [f for f in zf.namelist() if f.endswith(\".csv\")]\n",
        "print(\"총 사용자 수:\", len(file_list))\n",
        "\n",
        "# 500명 샘플링\n",
        "sample_files = random.sample(file_list, 500)\n",
        "user_stats = []\n",
        "\n",
        "# ============================================\n",
        "# 2. 사용자별 통계 계산\n",
        "# ============================================\n",
        "for f in sample_files:\n",
        "    try:\n",
        "        with zf.open(f) as fp:\n",
        "            df = pd.read_csv(fp)\n",
        "            if df.empty:\n",
        "                continue\n",
        "\n",
        "            user_id = f.split(\"/\")[-1].replace(\".csv\", \"\")\n",
        "            df = df.sort_values(\"timestamp\")\n",
        "\n",
        "            # --- quit 횟수 ---\n",
        "            quit_count = (df[\"action_type\"] == \"quit\").sum()\n",
        "\n",
        "            # --- 소요시간 ---\n",
        "            duration = df[\"timestamp\"].iloc[-1] - df[\"timestamp\"].iloc[0]\n",
        "\n",
        "            # --- 플랫폼 비율 ---\n",
        "            mobile_ratio = (df[\"platform\"] == \"mobile\").mean()\n",
        "            web_ratio = (df[\"platform\"] == \"web\").mean()\n",
        "\n",
        "            # --- 제출 비율 (submit / 문제 수) ---\n",
        "            submit_count = (df[\"action_type\"] == \"submit\").sum()\n",
        "            unique_q = df[df[\"item_id\"].astype(str).str.startswith(\"q\")][\"item_id\"].nunique()\n",
        "            submit_ratio = submit_count / unique_q if unique_q > 0 else np.nan\n",
        "\n",
        "            user_stats.append({\n",
        "                \"user_id\": user_id,\n",
        "                \"quit_count\": quit_count,\n",
        "                \"duration_ms\": duration,\n",
        "                \"mobile_ratio\": mobile_ratio,\n",
        "                \"web_ratio\": web_ratio,\n",
        "                \"submit_ratio\": submit_ratio\n",
        "            })\n",
        "    except Exception as e:\n",
        "        print(f\"{f} 오류: {e}\")\n",
        "\n",
        "# ============================================\n",
        "# 3. 요약 결과 정리\n",
        "# ============================================\n",
        "stats_df = pd.DataFrame(user_stats)\n",
        "print(\"\\n✅ 사용자별 통계 미리보기:\")\n",
        "print(stats_df.head())\n",
        "\n",
        "print(\"\\n📈 전체 요약 통계:\")\n",
        "print(stats_df.describe())\n",
        "\n",
        "# ============================================\n",
        "# 4. 시각화\n",
        "# ============================================\n",
        "plt.figure(figsize=(8,4))\n",
        "stats_df[\"quit_count\"].hist(bins=30, color=\"lightcoral\")\n",
        "plt.title(\"Quit 행동 횟수 분포\")\n",
        "plt.xlabel(\"quit_count\")\n",
        "plt.ylabel(\"사용자 수\")\n",
        "plt.show()\n",
        "\n",
        "plt.figure(figsize=(8,4))\n",
        "stats_df[\"submit_ratio\"].hist(bins=30, color=\"mediumseagreen\")\n",
        "plt.title(\"문항 수 대비 Submit 비율 분포\")\n",
        "plt.xlabel(\"submit_ratio\")\n",
        "plt.ylabel(\"사용자 수\")\n",
        "plt.show()\n",
        "\n",
        "plt.figure(figsize=(6,4))\n",
        "stats_df[[\"mobile_ratio\",\"web_ratio\"]].mean().plot(kind='bar', color=[\"orange\",\"skyblue\"])\n",
        "plt.title(\"평균 플랫폼 비율 (Mobile vs Web)\")\n",
        "plt.ylabel(\"비율\")\n",
        "plt.show()\n",
        "\n",
        "plt.figure(figsize=(8,4))\n",
        "plt.scatter(stats_df[\"duration_ms\"]/60000, stats_df[\"quit_count\"], alpha=0.6, c=\"slateblue\")\n",
        "plt.title(\"사용자별 소요시간 vs Quit 횟수\")\n",
        "plt.xlabel(\"소요시간(분)\")\n",
        "plt.ylabel(\"Quit 횟수\")\n",
        "plt.show()\n",
        "\n",
        "print(\"\\n✅ 시각화 완료! 데이터프레임 변수명: stats_df\")\n"
      ],
      "metadata": {
        "id": "EpcEa_vkjLoP"
      },
      "execution_count": null,
      "outputs": []
    },
    {
      "cell_type": "code",
      "source": [],
      "metadata": {
        "id": "BWYxA2cBjLqU"
      },
      "execution_count": null,
      "outputs": []
    }
  ]
}