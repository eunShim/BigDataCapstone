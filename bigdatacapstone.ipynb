{
  "nbformat": 4,
  "nbformat_minor": 0,
  "metadata": {
    "colab": {
      "provenance": [],
      "mount_file_id": "https://github.com/eunShim/Backend/blob/main/bigdatacapstone.ipynb",
      "authorship_tag": "ABX9TyM0grfpJ1nyWesoSbSXDQHl",
      "include_colab_link": true
    },
    "kernelspec": {
      "name": "python3",
      "display_name": "Python 3"
    },
    "language_info": {
      "name": "python"
    }
  },
  "cells": [
    {
      "cell_type": "markdown",
      "metadata": {
        "id": "view-in-github",
        "colab_type": "text"
      },
      "source": [
        "<a href=\"https://colab.research.google.com/github/eunShim/BigDataCapstone/blob/main/bigdatacapstone.ipynb\" target=\"_parent\"><img src=\"https://colab.research.google.com/assets/colab-badge.svg\" alt=\"Open In Colab\"/></a>"
      ]
    },
    {
      "cell_type": "markdown",
      "source": [
        "- KT4 파일로 500명 샘플링해서 사용자 로그 quit 횟수, timestamp 차이(소요시간), mobile/web 비율, submit 비율 계산함\n",
        "- 500명 행동 패턴 통계 출력"
      ],
      "metadata": {
        "id": "FK7JzDcppKP1"
      }
    },
    {
      "cell_type": "code",
      "source": [
        "# ============================================\n",
        "# ✅ EdNet-KT4.zip 500명 샘플 분석 + 시각화 (7z 버전)\n",
        "# ============================================\n",
        "import os, random, pandas as pd, numpy as np, matplotlib.pyplot as plt\n",
        "from tqdm import tqdm\n",
        "\n",
        "# --------------------------------------------\n",
        "# 1. 7z 설치 및 내부 파일 목록 확인\n",
        "# --------------------------------------------\n",
        "!sudo apt-get install -y p7zip-full > /dev/null\n",
        "\n",
        "zip_path = \"/content/EdNet-KT4.zip\"\n",
        "list_output = os.popen(f\"7z l {zip_path} | grep '.csv' | awk '{{print $6}}'\").read().splitlines()\n",
        "\n",
        "if not list_output:\n",
        "    raise RuntimeError(\"❌ CSV 파일 목록을 찾을 수 없습니다. 파일이 손상되었거나 7z 포맷이 아닐 수 있습니다.\")\n",
        "\n",
        "print(f\"✅ 내부 CSV 파일 {len(list_output)}개 탐색됨\")\n",
        "\n",
        "# --------------------------------------------\n",
        "# 2. 무작위 500명 샘플링 후 추출\n",
        "# --------------------------------------------\n",
        "sample_files = random.sample(list_output, 500)\n",
        "os.makedirs(\"/content/KT4_sample\", exist_ok=True)\n",
        "\n",
        "# 선택된 500명만 추출\n",
        "for f in tqdm(sample_files, desc=\"📦 압축 해제 중\"):\n",
        "    os.system(f\"7z x '{zip_path}' '{f}' -o'/content/KT4_sample' -y > /dev/null\")\n",
        "\n",
        "print(\"✅ 샘플 500명 추출 완료!\")\n",
        "\n",
        "# --------------------------------------------\n",
        "# 3. 사용자별 행동 통계 계산\n",
        "# --------------------------------------------\n",
        "folder = \"/content/KT4_sample\"\n",
        "files = [os.path.join(folder, f) for f in os.listdir(folder) if f.endswith(\".csv\")]\n",
        "\n",
        "user_stats = []\n",
        "\n",
        "for f in tqdm(files, desc=\"📊 사용자 분석 중\"):\n",
        "    try:\n",
        "        df = pd.read_csv(f)\n",
        "        if df.empty or \"timestamp\" not in df.columns:\n",
        "            continue\n",
        "\n",
        "        user_id = os.path.basename(f).replace(\".csv\", \"\")\n",
        "        df = df.sort_values(\"timestamp\")\n",
        "\n",
        "        quit_count = (df[\"action_type\"] == \"quit\").sum()\n",
        "        duration = df[\"timestamp\"].iloc[-1] - df[\"timestamp\"].iloc[0]\n",
        "        mobile_ratio = (df[\"platform\"] == \"mobile\").mean()\n",
        "        web_ratio = (df[\"platform\"] == \"web\").mean()\n",
        "        submit_count = (df[\"action_type\"] == \"submit\").sum()\n",
        "        unique_q = df[df[\"item_id\"].astype(str).str.startswith(\"q\")][\"item_id\"].nunique()\n",
        "        submit_ratio = submit_count / unique_q if unique_q > 0 else np.nan\n",
        "\n",
        "        user_stats.append({\n",
        "            \"user_id\": user_id,\n",
        "            \"quit_count\": quit_count,\n",
        "            \"duration_ms\": duration,\n",
        "            \"mobile_ratio\": mobile_ratio,\n",
        "            \"web_ratio\": web_ratio,\n",
        "            \"submit_ratio\": submit_ratio\n",
        "        })\n",
        "\n",
        "    except Exception as e:\n",
        "        print(f\"⚠️ {f} 처리 오류:\", e)\n",
        "\n",
        "stats_df = pd.DataFrame(user_stats)\n",
        "print(\"\\n✅ 사용자별 통계 미리보기:\")\n",
        "print(stats_df.head())\n",
        "\n",
        "# --------------------------------------------\n",
        "# 4. 통계 요약\n",
        "# --------------------------------------------\n",
        "print(\"\\n📈 전체 통계 요약:\")\n",
        "print(stats_df.describe())\n",
        "\n",
        "# --------------------------------------------\n",
        "# 5. 시각화\n",
        "# --------------------------------------------\n",
        "plt.figure(figsize=(8,4))\n",
        "stats_df[\"quit_count\"].hist(bins=30, color=\"lightcoral\")\n",
        "plt.title(\"Quit 행동 횟수 분포\")\n",
        "plt.xlabel(\"quit_count\")\n",
        "plt.ylabel(\"사용자 수\")\n",
        "plt.show()\n",
        "\n",
        "plt.figure(figsize=(8,4))\n",
        "stats_df[\"submit_ratio\"].hist(bins=30, color=\"mediumseagreen\")\n",
        "plt.title(\"문항 수 대비 Submit 비율 분포\")\n",
        "plt.xlabel(\"submit_ratio\")\n",
        "plt.ylabel(\"사용자 수\")\n",
        "plt.show()\n",
        "\n",
        "plt.figure(figsize=(6,4))\n",
        "stats_df[[\"mobile_ratio\",\"web_ratio\"]].mean().plot(kind='bar', color=[\"orange\",\"skyblue\"])\n",
        "plt.title(\"평균 플랫폼 비율 (Mobile vs Web)\")\n",
        "plt.ylabel(\"비율\")\n",
        "plt.show()\n",
        "\n",
        "plt.figure(figsize=(8,4))\n",
        "plt.scatter(stats_df[\"duration_ms\"]/60000, stats_df[\"quit_count\"], alpha=0.6, c=\"slateblue\")\n",
        "plt.title(\"사용자별 소요시간 vs Quit 횟수\")\n",
        "plt.xlabel(\"소요시간(분)\")\n",
        "plt.ylabel(\"Quit 횟수\")\n",
        "plt.show()\n",
        "\n",
        "print(\"\\n✅ 분석 및 시각화 완료! DataFrame 이름: stats_df\")\n"
      ],
      "metadata": {
        "id": "EpcEa_vkjLoP",
        "outputId": "a7c0a549-6500-4d83-d82e-2d51ea678510",
        "colab": {
          "base_uri": "https://localhost:8080/",
          "height": 219
        }
      },
      "execution_count": 1,
      "outputs": [
        {
          "output_type": "error",
          "ename": "RuntimeError",
          "evalue": "❌ CSV 파일 목록을 찾을 수 없습니다. 파일이 손상되었거나 7z 포맷이 아닐 수 있습니다.",
          "traceback": [
            "\u001b[0;31m---------------------------------------------------------------------------\u001b[0m",
            "\u001b[0;31mRuntimeError\u001b[0m                              Traceback (most recent call last)",
            "\u001b[0;32m/tmp/ipython-input-337113683.py\u001b[0m in \u001b[0;36m<cell line: 0>\u001b[0;34m()\u001b[0m\n\u001b[1;32m     14\u001b[0m \u001b[0;34m\u001b[0m\u001b[0m\n\u001b[1;32m     15\u001b[0m \u001b[0;32mif\u001b[0m \u001b[0;32mnot\u001b[0m \u001b[0mlist_output\u001b[0m\u001b[0;34m:\u001b[0m\u001b[0;34m\u001b[0m\u001b[0;34m\u001b[0m\u001b[0m\n\u001b[0;32m---> 16\u001b[0;31m     \u001b[0;32mraise\u001b[0m \u001b[0mRuntimeError\u001b[0m\u001b[0;34m(\u001b[0m\u001b[0;34m\"❌ CSV 파일 목록을 찾을 수 없습니다. 파일이 손상되었거나 7z 포맷이 아닐 수 있습니다.\"\u001b[0m\u001b[0;34m)\u001b[0m\u001b[0;34m\u001b[0m\u001b[0;34m\u001b[0m\u001b[0m\n\u001b[0m\u001b[1;32m     17\u001b[0m \u001b[0;34m\u001b[0m\u001b[0m\n\u001b[1;32m     18\u001b[0m \u001b[0mprint\u001b[0m\u001b[0;34m(\u001b[0m\u001b[0;34mf\"✅ 내부 CSV 파일 {len(list_output)}개 탐색됨\"\u001b[0m\u001b[0;34m)\u001b[0m\u001b[0;34m\u001b[0m\u001b[0;34m\u001b[0m\u001b[0m\n",
            "\u001b[0;31mRuntimeError\u001b[0m: ❌ CSV 파일 목록을 찾을 수 없습니다. 파일이 손상되었거나 7z 포맷이 아닐 수 있습니다."
          ]
        }
      ]
    },
    {
      "cell_type": "code",
      "source": [],
      "metadata": {
        "id": "BWYxA2cBjLqU"
      },
      "execution_count": null,
      "outputs": []
    }
  ]
}